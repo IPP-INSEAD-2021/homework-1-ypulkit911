{
 "cells": [
  {
   "cell_type": "markdown",
   "id": "a88ad48c",
   "metadata": {},
   "source": [
    "## IPP Assignment 1"
   ]
  },
  {
   "cell_type": "markdown",
   "id": "75caadb6",
   "metadata": {},
   "source": [
    "### GRADE (Name)\n",
    "\n",
    "**Problem** | *Correctness (5)* | *Clarity (2.5)* | *Efficiency (2.5)*| COMMENT\n",
    "---|---|---|---|---\n",
    "**1** | 5/5 | 2.5/2.5 | 2.5/2.5|You could've used other basic markdown (please refer to the answer sheet). Great introduction! Thanks!\n",
    "**2.1** | 5 | 2.5 | 2.5|\n",
    "**2.2** | 5 | 2.5 | 2.5|\n",
    "**2.3** | 5 | 2.5 | 2.5|\n",
    "**3** | 5 | 2.5 | (Extra point - 2.5) 2.5|Extra point for dictionary q. Please present your code during the next session. Great!\n",
    "**TOTAL SCORE** | **52.5/50**"
   ]
  },
  {
   "cell_type": "markdown",
   "id": "87dce42d",
   "metadata": {},
   "source": [
    "A Jupyter notebook, a Python interface, mainly consists of two types of cells: Markdown and Code cells. A Code cell is a block of contents that contain snippets of code written in Python Programming Language. A markdown cell is a block of contents that contain text and sometimes image.\n",
    "\n",
    "As you progress, you may realize the importance of markdown cells while programming with python language. Markdown cells allow you to keep track of what you've done in the Code cells by displaying titles or a brief summary of tasks in a text format (You can add headings, emphasis (bold or italic text), mathematical symbols, bullets and horizontal lines etc). This assignment is meant to guide you to become familiar with markdown language.\n",
    "\n"
   ]
  },
  {
   "cell_type": "markdown",
   "id": "89552ab6",
   "metadata": {},
   "source": [
    "### Problem 1. Using markdown language, write an introduction of yourself. You can use multiple markdown cells to create a neat introduction of yourself.\n"
   ]
  },
  {
   "cell_type": "markdown",
   "id": "9e30b719",
   "metadata": {},
   "source": [
    "#### Hi, my name is Pulkit. I am a fun person 92.25% of my awake time, rest 8.65% I spend it on the football field. I am a wannabe arithmetician and an abstract stand up comedian.  "
   ]
  },
  {
   "cell_type": "markdown",
   "id": "cb10fbba",
   "metadata": {},
   "source": [
    "### Problem 2"
   ]
  },
  {
   "cell_type": "markdown",
   "id": "f87fa682",
   "metadata": {},
   "source": [
    "For problem 2, use the following list (called i) & dictionary (called d)\n",
    "* Note that i is a list which contains 9 elements.\n",
    "* Note that d is a dictionary which has 9 keys and values."
   ]
  },
  {
   "cell_type": "code",
   "execution_count": 1,
   "id": "353925c2",
   "metadata": {
    "ExecuteTime": {
     "end_time": "2021-08-07T07:49:19.743419Z",
     "start_time": "2021-08-07T07:49:19.729208Z"
    }
   },
   "outputs": [
    {
     "name": "stdout",
     "output_type": "stream",
     "text": [
      "['I', 'N', 'S', 'E', 'A', 'D', 'P', 'H', 'D']\n",
      "{0: 'I', 1: 'N', 2: 'S', 3: 'E', 4: 'A', 5: 'D', 6: 'P', 7: 'H', 8: 'D'}\n"
     ]
    }
   ],
   "source": [
    "i=['I','N','S','E','A','D','P','H','D']\n",
    "d={}\n",
    "for count, value in enumerate(i):\n",
    "    d[count]=value\n",
    "    \n",
    "print(i)\n",
    "print(d)"
   ]
  },
  {
   "cell_type": "markdown",
   "id": "ae5f126b",
   "metadata": {},
   "source": [
    "#### Problem 2.1 Write a for loop that prints the first six elements of the list (i), using both 'IF' and 'BREAK' statments within the loop."
   ]
  },
  {
   "cell_type": "code",
   "execution_count": 2,
   "id": "d60d32bd",
   "metadata": {
    "ExecuteTime": {
     "end_time": "2021-08-07T07:49:31.143538Z",
     "start_time": "2021-08-07T07:49:31.118858Z"
    }
   },
   "outputs": [
    {
     "name": "stdout",
     "output_type": "stream",
     "text": [
      "I\n",
      "N\n",
      "S\n",
      "E\n",
      "A\n",
      "D\n"
     ]
    }
   ],
   "source": [
    "# Write a for loop that produces the following output in this cell.\n",
    "\n",
    "##############################################################################################\n",
    "count = 0\n",
    "for j in i:\n",
    "    print(j)\n",
    "    count = count +1\n",
    "    if count == 6:\n",
    "        break\n",
    "\n",
    "    \n",
    "    \n",
    "\n",
    "##############################################################################################"
   ]
  },
  {
   "cell_type": "markdown",
   "id": "4fd35a83",
   "metadata": {},
   "source": [
    "#### Problem 2.2 Write a for loop that prints all the elements except 'D' in the list (i) using if and continue statement within the loop."
   ]
  },
  {
   "cell_type": "code",
   "execution_count": 3,
   "id": "25890db0",
   "metadata": {
    "ExecuteTime": {
     "end_time": "2021-08-07T07:49:48.192391Z",
     "start_time": "2021-08-07T07:49:48.165948Z"
    }
   },
   "outputs": [
    {
     "name": "stdout",
     "output_type": "stream",
     "text": [
      "I\n",
      "N\n",
      "S\n",
      "E\n",
      "A\n",
      "P\n",
      "H\n"
     ]
    }
   ],
   "source": [
    "# Write a for loop that produces the following output in this cell.\n",
    "##############################################################################################\n",
    "for j in i:    \n",
    "    if j == \"D\":\n",
    "        continue\n",
    "    print(j)\n",
    "\n",
    "##############################################################################################"
   ]
  },
  {
   "cell_type": "markdown",
   "id": "943065ae",
   "metadata": {},
   "source": [
    "#### Problem 2.3 Create an empty list called l. Write a for loop that adds only odd dictionary keys of d in l (l is the emply list that you've created). Then prints l."
   ]
  },
  {
   "cell_type": "code",
   "execution_count": 4,
   "id": "90e22bb1",
   "metadata": {
    "ExecuteTime": {
     "end_time": "2021-08-07T07:50:05.870709Z",
     "start_time": "2021-08-07T07:50:05.861598Z"
    }
   },
   "outputs": [
    {
     "name": "stdout",
     "output_type": "stream",
     "text": [
      "[1, 3, 5, 7]\n"
     ]
    }
   ],
   "source": [
    "# Write a for loop that produces the following output in this cell.\n",
    "# Start with creating a list called l\n",
    "l=[]\n",
    "##############################################################################################\n",
    "for j in d:\n",
    "    if j%2 != 0:\n",
    "        l.append(j)\n",
    "##############################################################################################\n",
    "print(l)"
   ]
  },
  {
   "cell_type": "markdown",
   "id": "858357f2",
   "metadata": {},
   "source": [
    "### Problem 3"
   ]
  },
  {
   "cell_type": "markdown",
   "id": "b4c45814",
   "metadata": {},
   "source": [
    "For problem 3, use the following two lists, students and departments respectively"
   ]
  },
  {
   "cell_type": "code",
   "execution_count": 5,
   "id": "0f426603",
   "metadata": {
    "ExecuteTime": {
     "end_time": "2021-08-07T07:50:10.034888Z",
     "start_time": "2021-08-07T07:50:10.017802Z"
    }
   },
   "outputs": [],
   "source": [
    "students=[\"MKT:Sherrie\",\n",
    "          \"OB:Jennifer\",\n",
    "          \"TOM:Priscilla\",\n",
    "          \"STR:Nety\",\n",
    "          \"STR:Tienchang\",\n",
    "          \"ENT:Pulkit\",\n",
    "          \"FIN:Meghana\",\n",
    "          \"STR:Constantin\",\n",
    "          \"ENT:Junghyo\",\n",
    "          \"MKT:Sherrie\",\n",
    "          \"OB:Jennifer\"]\n",
    "\n",
    "departments=[\"MKT\",\"OB\",\"TOM\",\"STR\",\"ENT\",\"FIN\"]"
   ]
  },
  {
   "cell_type": "code",
   "execution_count": 6,
   "id": "62a852bd",
   "metadata": {
    "ExecuteTime": {
     "end_time": "2021-08-07T07:50:13.045368Z",
     "start_time": "2021-08-07T07:50:13.009532Z"
    }
   },
   "outputs": [
    {
     "data": {
      "text/plain": [
       "['MKT:Sherrie',\n",
       " 'OB:Jennifer',\n",
       " 'TOM:Priscilla',\n",
       " 'STR:Nety',\n",
       " 'STR:Tienchang',\n",
       " 'ENT:Pulkit',\n",
       " 'FIN:Meghana',\n",
       " 'STR:Constantin',\n",
       " 'ENT:Junghyo',\n",
       " 'MKT:Sherrie',\n",
       " 'OB:Jennifer']"
      ]
     },
     "execution_count": 6,
     "metadata": {},
     "output_type": "execute_result"
    }
   ],
   "source": [
    "students"
   ]
  },
  {
   "cell_type": "markdown",
   "id": "1a062db9",
   "metadata": {},
   "source": [
    "#### Problem 3. Create an empty dictionary called d. Write a for loop that adds each department in departments (given list) as keys and the list of students in that department as values."
   ]
  },
  {
   "cell_type": "code",
   "execution_count": 7,
   "id": "0c5312be",
   "metadata": {},
   "outputs": [
    {
     "data": {
      "text/plain": [
       "{'MKT': ['Sherrie'],\n",
       " 'OB': ['Jennifer'],\n",
       " 'TOM': ['Priscilla'],\n",
       " 'STR': ['Constantin', 'Nety', 'Tienchang'],\n",
       " 'ENT': ['Junghyo', 'Pulkit'],\n",
       " 'FIN': ['Meghana']}"
      ]
     },
     "execution_count": 7,
     "metadata": {},
     "output_type": "execute_result"
    }
   ],
   "source": [
    "# Write a for loop that produces the following output in this cell, using the given lists (students & departments)\n",
    "# Start with creating a dictonary called d\n",
    "d = {}\n",
    "\n",
    "##############################################################################################\n",
    "for key in departments:\n",
    "    for value in students:\n",
    "        if key[0] == value[0]:\n",
    "            x = [value[len(key)+1:] for value in students if key[0] == value[0]]\n",
    "            d[key] = list(set(x))  #used set to remove duplicate values, and used typecasting to get the output in list\n",
    "\n",
    "q = {key: list(set([value[len(key)+1:] for value in students if value.startswith(key)])) for key in departments}\n",
    "\n",
    "# ^ more robust way as 'key[0] == value[0]]' only worked since no two departments have same first letter\n",
    "##############################################################################################\n",
    "d"
   ]
  },
  {
   "cell_type": "code",
   "execution_count": 16,
   "id": "736eb19a",
   "metadata": {},
   "outputs": [
    {
     "name": "stdout",
     "output_type": "stream",
     "text": [
      "{'Sherrie'}\n",
      "{'Sherrie'}\n",
      "{'Jennifer'}\n",
      "{'Jennifer'}\n",
      "{'Priscilla'}\n",
      "{'Constantin', 'Nety', 'Tienchang'}\n",
      "{'Constantin', 'Nety', 'Tienchang'}\n",
      "{'Constantin', 'Nety', 'Tienchang'}\n",
      "{'Junghyo', 'Pulkit'}\n",
      "{'Junghyo', 'Pulkit'}\n",
      "{'Meghana'}\n"
     ]
    }
   ],
   "source": [
    "for key in departments:\n",
    "    for value in students:\n",
    "        if key[0] == value[0]:\n",
    "            x = [value[len(key)+1:] for value in students if key[0]==value[0]] # select sub string based on its index\n",
    "            # you can simply \n",
    "            print(set(x))"
   ]
  },
  {
   "cell_type": "code",
   "execution_count": 14,
   "id": "2f35f02d",
   "metadata": {},
   "outputs": [],
   "source": [
    "q = {key: list(set([value[len(key)+1:] for value in students if value.startswith(key)])) for key in departments}"
   ]
  },
  {
   "cell_type": "code",
   "execution_count": 15,
   "id": "de9683d8",
   "metadata": {},
   "outputs": [
    {
     "data": {
      "text/plain": [
       "{'MKT': ['Sherrie'],\n",
       " 'OB': ['Jennifer'],\n",
       " 'TOM': ['Priscilla'],\n",
       " 'STR': ['Constantin', 'Nety', 'Tienchang'],\n",
       " 'ENT': ['Junghyo', 'Pulkit'],\n",
       " 'FIN': ['Meghana']}"
      ]
     },
     "execution_count": 15,
     "metadata": {},
     "output_type": "execute_result"
    }
   ],
   "source": [
    "q"
   ]
  },
  {
   "cell_type": "code",
   "execution_count": 12,
   "id": "7ce9eccd",
   "metadata": {
    "ExecuteTime": {
     "end_time": "2021-08-07T08:08:40.133555Z",
     "start_time": "2021-08-07T08:08:40.106782Z"
    },
    "scrolled": true
   },
   "outputs": [
    {
     "data": {
      "text/plain": [
       "{'MKT': ['Sherrie'],\n",
       " 'OB': ['Jennifer'],\n",
       " 'TOM': ['Priscilla'],\n",
       " 'STR': ['Nety', 'Constantin', 'Tienchang'],\n",
       " 'ENT': ['Pulkit', 'Junghyo'],\n",
       " 'FIN': ['Meghana']}"
      ]
     },
     "execution_count": 12,
     "metadata": {},
     "output_type": "execute_result"
    }
   ],
   "source": [
    "# Write a for loop that produces the following output in this cell, using the given lists (students & departments)\n",
    "# Start with creating a dictonary called d\n",
    "d = {}\n",
    "\n",
    "##############################################################################################\n",
    "for key in departments:\n",
    "    for value in students:\n",
    "        if key[0] == value[0]:\n",
    "            x = [value[len(key)+1:] for value in students if key[0] == value[0]]\n",
    "            d[key] = list(set(x))  #used set to remove duplicate values, and used typecasting to get the output in list\n",
    "\n",
    "q = {key: list(set([value[len(key)+1:] for value in students if value.startswith(key)])) for key in departments}\n",
    "\n",
    "# ^ more robust way as 'key[0] == value[0]]' only worked since no two departments have same first letter\n",
    "##############################################################################################\n",
    "d"
   ]
  },
  {
   "cell_type": "code",
   "execution_count": null,
   "id": "c432b989",
   "metadata": {},
   "outputs": [],
   "source": []
  }
 ],
 "metadata": {
  "kernelspec": {
   "display_name": "Python 3",
   "language": "python",
   "name": "python3"
  },
  "language_info": {
   "codemirror_mode": {
    "name": "ipython",
    "version": 3
   },
   "file_extension": ".py",
   "mimetype": "text/x-python",
   "name": "python",
   "nbconvert_exporter": "python",
   "pygments_lexer": "ipython3",
   "version": "3.8.8"
  }
 },
 "nbformat": 4,
 "nbformat_minor": 5
}
